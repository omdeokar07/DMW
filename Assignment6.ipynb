{
  "nbformat": 4,
  "nbformat_minor": 0,
  "metadata": {
    "colab": {
      "provenance": []
    },
    "kernelspec": {
      "name": "python3",
      "display_name": "Python 3"
    },
    "language_info": {
      "name": "python"
    }
  },
  "cells": [
    {
      "cell_type": "code",
      "execution_count": 1,
      "metadata": {
        "id": "MWdBkI5BdYpt"
      },
      "outputs": [],
      "source": [
        "import pandas as pd\n",
        "from sklearn.model_selection import train_test_split\n",
        "from sklearn.tree import DecisionTreeClassifier\n",
        "from sklearn.svm import SVC\n",
        "from sklearn.neighbors import KNeighborsClassifier\n",
        "from sklearn.metrics import accuracy_score"
      ]
    },
    {
      "cell_type": "code",
      "source": [
        "iris_data = pd.read_csv(\"/content/Iris.csv\")"
      ],
      "metadata": {
        "id": "GAedxMaKiNim"
      },
      "execution_count": 2,
      "outputs": []
    },
    {
      "cell_type": "code",
      "source": [
        "print(iris_data.columns)\n"
      ],
      "metadata": {
        "colab": {
          "base_uri": "https://localhost:8080/"
        },
        "id": "1aY23k7XlDF8",
        "outputId": "01631e92-79c2-4354-dc44-b09000b89aaa"
      },
      "execution_count": 3,
      "outputs": [
        {
          "output_type": "stream",
          "name": "stdout",
          "text": [
            "Index(['Id', 'SepalLengthCm', 'SepalWidthCm', 'PetalLengthCm', 'PetalWidthCm',\n",
            "       'Species'],\n",
            "      dtype='object')\n"
          ]
        }
      ]
    },
    {
      "cell_type": "code",
      "source": [
        "# Split the dataset into features and target variable\n",
        "x = iris_data.drop('Species', axis=1)\n",
        "y = iris_data['Species']\n"
      ],
      "metadata": {
        "id": "PKlQsr1pklJn"
      },
      "execution_count": 4,
      "outputs": []
    },
    {
      "cell_type": "code",
      "source": [
        "x_train,x_test,y_train,y_test=train_test_split(x,y,test_size=0.2,random_state=2)"
      ],
      "metadata": {
        "id": "BJrJVfC0lIW8"
      },
      "execution_count": 5,
      "outputs": []
    },
    {
      "cell_type": "code",
      "source": [
        "from sklearn.neighbors import KNeighborsClassifier\n",
        "from sklearn.model_selection import train_test_split\n",
        "import numpy as np\n",
        "\n",
        "# Assuming x_train, x_test, y_train, y_test are your training and test sets\n",
        "# Create and train KNN classifier\n",
        "knn = KNeighborsClassifier()\n",
        "knn.fit(x_train, y_train)\n",
        "\n",
        "# Make predictions on the test set\n",
        "y_pred = knn.predict(x_test)\n",
        "# Calculate and print KNN accuracy\n",
        "print('KNN accuracy:{:.2f}%'.format(knn.score(x_test,y_test)*100))\n"
      ],
      "metadata": {
        "colab": {
          "base_uri": "https://localhost:8080/"
        },
        "id": "7SMwJUAnoxH0",
        "outputId": "c1c1b534-1917-4c39-be98-a450b946044c"
      },
      "execution_count": 6,
      "outputs": [
        {
          "output_type": "stream",
          "name": "stdout",
          "text": [
            "KNN accuracy:100.00%\n"
          ]
        }
      ]
    },
    {
      "cell_type": "code",
      "source": [
        "from sklearn.svm import SVC\n",
        "from sklearn.model_selection import train_test_split\n",
        "import numpy as np\n",
        "\n",
        "# Assuming x_train, x_test, y_train, y_test are your training and test sets\n",
        "# Create and train SVM classifier\n",
        "svm = SVC()\n",
        "svm.fit(x_train, y_train)\n",
        "\n",
        "# Make predictions on the test set\n",
        "y_pred = svm.predict(x_test)\n",
        "# Calculate and print SVM accuracy\n",
        "print('SVM accuracy:{:.2f}%'.format(svm.score(x_test,y_test)*100))\n"
      ],
      "metadata": {
        "colab": {
          "base_uri": "https://localhost:8080/"
        },
        "id": "msJI8GXapGLK",
        "outputId": "f5529a59-fbc3-465c-b2f5-11e5deb346d4"
      },
      "execution_count": 7,
      "outputs": [
        {
          "output_type": "stream",
          "name": "stdout",
          "text": [
            "SVM accuracy:96.67%\n"
          ]
        }
      ]
    },
    {
      "cell_type": "code",
      "source": [
        "from sklearn.tree import DecisionTreeClassifier\n",
        "from sklearn.model_selection import train_test_split\n",
        "import numpy as np\n",
        "\n",
        "# Assuming x_train, x_test, y_train, y_test are your training and test sets\n",
        "# Create and train Decision Tree classifier\n",
        "dtc = DecisionTreeClassifier()\n",
        "dtc.fit(x_train, y_train)\n",
        "\n",
        "# Make predictions on the test set\n",
        "y_pred = dtc.predict(x_test)\n",
        "# Calculate and print Decision Tree accuracy\n",
        "print('Decision Tree accuracy:{:.2f}%'.format(dtc.score(x_test,y_test)*100))\n"
      ],
      "metadata": {
        "colab": {
          "base_uri": "https://localhost:8080/"
        },
        "id": "H7wyDYiUpQLd",
        "outputId": "5c717a85-d2ba-4f35-ee90-96852f05daa2"
      },
      "execution_count": 8,
      "outputs": [
        {
          "output_type": "stream",
          "name": "stdout",
          "text": [
            "Decision Tree accuracy:100.00%\n"
          ]
        }
      ]
    }
  ]
}