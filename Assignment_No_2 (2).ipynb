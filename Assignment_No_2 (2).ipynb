{
 "cells": [
  {
   "cell_type": "code",
   "execution_count": 2,
   "id": "a3417592-7d4b-45d5-8f28-8502ed21a609",
   "metadata": {},
   "outputs": [],
   "source": [
    "import pandas as pd\n",
    "data = pd.read_csv('C:/Users/rpcha/Desktop/Heart.csv')"
   ]
  },
  {
   "cell_type": "code",
   "execution_count": 3,
   "id": "ea6a21d8-d827-46d7-b1ee-a4109ca83619",
   "metadata": {},
   "outputs": [
    {
     "data": {
      "text/html": [
       "<div>\n",
       "<style scoped>\n",
       "    .dataframe tbody tr th:only-of-type {\n",
       "        vertical-align: middle;\n",
       "    }\n",
       "\n",
       "    .dataframe tbody tr th {\n",
       "        vertical-align: top;\n",
       "    }\n",
       "\n",
       "    .dataframe thead th {\n",
       "        text-align: right;\n",
       "    }\n",
       "</style>\n",
       "<table border=\"1\" class=\"dataframe\">\n",
       "  <thead>\n",
       "    <tr style=\"text-align: right;\">\n",
       "      <th></th>\n",
       "      <th>Unnamed: 0</th>\n",
       "      <th>Age</th>\n",
       "      <th>Sex</th>\n",
       "      <th>ChestPain</th>\n",
       "      <th>RestBP</th>\n",
       "      <th>Chol</th>\n",
       "      <th>Fbs</th>\n",
       "      <th>RestECG</th>\n",
       "      <th>MaxHR</th>\n",
       "      <th>ExAng</th>\n",
       "      <th>Oldpeak</th>\n",
       "      <th>Slope</th>\n",
       "      <th>Ca</th>\n",
       "      <th>Thal</th>\n",
       "      <th>AHD</th>\n",
       "    </tr>\n",
       "  </thead>\n",
       "  <tbody>\n",
       "    <tr>\n",
       "      <th>0</th>\n",
       "      <td>1</td>\n",
       "      <td>63</td>\n",
       "      <td>1</td>\n",
       "      <td>typical</td>\n",
       "      <td>145</td>\n",
       "      <td>233</td>\n",
       "      <td>1</td>\n",
       "      <td>2</td>\n",
       "      <td>150</td>\n",
       "      <td>0</td>\n",
       "      <td>2.3</td>\n",
       "      <td>3</td>\n",
       "      <td>0.0</td>\n",
       "      <td>fixed</td>\n",
       "      <td>No</td>\n",
       "    </tr>\n",
       "    <tr>\n",
       "      <th>1</th>\n",
       "      <td>2</td>\n",
       "      <td>67</td>\n",
       "      <td>1</td>\n",
       "      <td>asymptomatic</td>\n",
       "      <td>160</td>\n",
       "      <td>286</td>\n",
       "      <td>0</td>\n",
       "      <td>2</td>\n",
       "      <td>108</td>\n",
       "      <td>1</td>\n",
       "      <td>1.5</td>\n",
       "      <td>2</td>\n",
       "      <td>3.0</td>\n",
       "      <td>normal</td>\n",
       "      <td>Yes</td>\n",
       "    </tr>\n",
       "    <tr>\n",
       "      <th>2</th>\n",
       "      <td>3</td>\n",
       "      <td>67</td>\n",
       "      <td>1</td>\n",
       "      <td>asymptomatic</td>\n",
       "      <td>120</td>\n",
       "      <td>229</td>\n",
       "      <td>0</td>\n",
       "      <td>2</td>\n",
       "      <td>129</td>\n",
       "      <td>1</td>\n",
       "      <td>2.6</td>\n",
       "      <td>2</td>\n",
       "      <td>2.0</td>\n",
       "      <td>reversable</td>\n",
       "      <td>Yes</td>\n",
       "    </tr>\n",
       "    <tr>\n",
       "      <th>3</th>\n",
       "      <td>4</td>\n",
       "      <td>37</td>\n",
       "      <td>1</td>\n",
       "      <td>nonanginal</td>\n",
       "      <td>130</td>\n",
       "      <td>250</td>\n",
       "      <td>0</td>\n",
       "      <td>0</td>\n",
       "      <td>187</td>\n",
       "      <td>0</td>\n",
       "      <td>3.5</td>\n",
       "      <td>3</td>\n",
       "      <td>0.0</td>\n",
       "      <td>normal</td>\n",
       "      <td>No</td>\n",
       "    </tr>\n",
       "    <tr>\n",
       "      <th>4</th>\n",
       "      <td>5</td>\n",
       "      <td>41</td>\n",
       "      <td>0</td>\n",
       "      <td>nontypical</td>\n",
       "      <td>130</td>\n",
       "      <td>204</td>\n",
       "      <td>0</td>\n",
       "      <td>2</td>\n",
       "      <td>172</td>\n",
       "      <td>0</td>\n",
       "      <td>1.4</td>\n",
       "      <td>1</td>\n",
       "      <td>0.0</td>\n",
       "      <td>normal</td>\n",
       "      <td>No</td>\n",
       "    </tr>\n",
       "    <tr>\n",
       "      <th>...</th>\n",
       "      <td>...</td>\n",
       "      <td>...</td>\n",
       "      <td>...</td>\n",
       "      <td>...</td>\n",
       "      <td>...</td>\n",
       "      <td>...</td>\n",
       "      <td>...</td>\n",
       "      <td>...</td>\n",
       "      <td>...</td>\n",
       "      <td>...</td>\n",
       "      <td>...</td>\n",
       "      <td>...</td>\n",
       "      <td>...</td>\n",
       "      <td>...</td>\n",
       "      <td>...</td>\n",
       "    </tr>\n",
       "    <tr>\n",
       "      <th>298</th>\n",
       "      <td>299</td>\n",
       "      <td>45</td>\n",
       "      <td>1</td>\n",
       "      <td>typical</td>\n",
       "      <td>110</td>\n",
       "      <td>264</td>\n",
       "      <td>0</td>\n",
       "      <td>0</td>\n",
       "      <td>132</td>\n",
       "      <td>0</td>\n",
       "      <td>1.2</td>\n",
       "      <td>2</td>\n",
       "      <td>0.0</td>\n",
       "      <td>reversable</td>\n",
       "      <td>Yes</td>\n",
       "    </tr>\n",
       "    <tr>\n",
       "      <th>299</th>\n",
       "      <td>300</td>\n",
       "      <td>68</td>\n",
       "      <td>1</td>\n",
       "      <td>asymptomatic</td>\n",
       "      <td>144</td>\n",
       "      <td>193</td>\n",
       "      <td>1</td>\n",
       "      <td>0</td>\n",
       "      <td>141</td>\n",
       "      <td>0</td>\n",
       "      <td>3.4</td>\n",
       "      <td>2</td>\n",
       "      <td>2.0</td>\n",
       "      <td>reversable</td>\n",
       "      <td>Yes</td>\n",
       "    </tr>\n",
       "    <tr>\n",
       "      <th>300</th>\n",
       "      <td>301</td>\n",
       "      <td>57</td>\n",
       "      <td>1</td>\n",
       "      <td>asymptomatic</td>\n",
       "      <td>130</td>\n",
       "      <td>131</td>\n",
       "      <td>0</td>\n",
       "      <td>0</td>\n",
       "      <td>115</td>\n",
       "      <td>1</td>\n",
       "      <td>1.2</td>\n",
       "      <td>2</td>\n",
       "      <td>1.0</td>\n",
       "      <td>reversable</td>\n",
       "      <td>Yes</td>\n",
       "    </tr>\n",
       "    <tr>\n",
       "      <th>301</th>\n",
       "      <td>302</td>\n",
       "      <td>57</td>\n",
       "      <td>0</td>\n",
       "      <td>nontypical</td>\n",
       "      <td>130</td>\n",
       "      <td>236</td>\n",
       "      <td>0</td>\n",
       "      <td>2</td>\n",
       "      <td>174</td>\n",
       "      <td>0</td>\n",
       "      <td>0.0</td>\n",
       "      <td>2</td>\n",
       "      <td>1.0</td>\n",
       "      <td>normal</td>\n",
       "      <td>Yes</td>\n",
       "    </tr>\n",
       "    <tr>\n",
       "      <th>302</th>\n",
       "      <td>303</td>\n",
       "      <td>38</td>\n",
       "      <td>1</td>\n",
       "      <td>nonanginal</td>\n",
       "      <td>138</td>\n",
       "      <td>175</td>\n",
       "      <td>0</td>\n",
       "      <td>0</td>\n",
       "      <td>173</td>\n",
       "      <td>0</td>\n",
       "      <td>0.0</td>\n",
       "      <td>1</td>\n",
       "      <td>NaN</td>\n",
       "      <td>normal</td>\n",
       "      <td>No</td>\n",
       "    </tr>\n",
       "  </tbody>\n",
       "</table>\n",
       "<p>303 rows × 15 columns</p>\n",
       "</div>"
      ],
      "text/plain": [
       "     Unnamed: 0  Age  Sex     ChestPain  RestBP  Chol  Fbs  RestECG  MaxHR  \\\n",
       "0             1   63    1       typical     145   233    1        2    150   \n",
       "1             2   67    1  asymptomatic     160   286    0        2    108   \n",
       "2             3   67    1  asymptomatic     120   229    0        2    129   \n",
       "3             4   37    1    nonanginal     130   250    0        0    187   \n",
       "4             5   41    0    nontypical     130   204    0        2    172   \n",
       "..          ...  ...  ...           ...     ...   ...  ...      ...    ...   \n",
       "298         299   45    1       typical     110   264    0        0    132   \n",
       "299         300   68    1  asymptomatic     144   193    1        0    141   \n",
       "300         301   57    1  asymptomatic     130   131    0        0    115   \n",
       "301         302   57    0    nontypical     130   236    0        2    174   \n",
       "302         303   38    1    nonanginal     138   175    0        0    173   \n",
       "\n",
       "     ExAng  Oldpeak  Slope   Ca        Thal  AHD  \n",
       "0        0      2.3      3  0.0       fixed   No  \n",
       "1        1      1.5      2  3.0      normal  Yes  \n",
       "2        1      2.6      2  2.0  reversable  Yes  \n",
       "3        0      3.5      3  0.0      normal   No  \n",
       "4        0      1.4      1  0.0      normal   No  \n",
       "..     ...      ...    ...  ...         ...  ...  \n",
       "298      0      1.2      2  0.0  reversable  Yes  \n",
       "299      0      3.4      2  2.0  reversable  Yes  \n",
       "300      1      1.2      2  1.0  reversable  Yes  \n",
       "301      0      0.0      2  1.0      normal  Yes  \n",
       "302      0      0.0      1  NaN      normal   No  \n",
       "\n",
       "[303 rows x 15 columns]"
      ]
     },
     "execution_count": 3,
     "metadata": {},
     "output_type": "execute_result"
    }
   ],
   "source": [
    "data"
   ]
  },
  {
   "cell_type": "code",
   "execution_count": 4,
   "id": "5b3a0eb2-d094-4000-85b8-0bef318505c2",
   "metadata": {},
   "outputs": [
    {
     "data": {
      "text/plain": [
       "Unnamed: 0      int64\n",
       "Age             int64\n",
       "Sex             int64\n",
       "ChestPain      object\n",
       "RestBP          int64\n",
       "Chol            int64\n",
       "Fbs             int64\n",
       "RestECG         int64\n",
       "MaxHR           int64\n",
       "ExAng           int64\n",
       "Oldpeak       float64\n",
       "Slope           int64\n",
       "Ca            float64\n",
       "Thal           object\n",
       "AHD            object\n",
       "dtype: object"
      ]
     },
     "execution_count": 4,
     "metadata": {},
     "output_type": "execute_result"
    }
   ],
   "source": [
    "data.dtypes"
   ]
  },
  {
   "cell_type": "code",
   "execution_count": 6,
   "id": "4f717d3d-5832-4f9c-af6a-61207419ad93",
   "metadata": {},
   "outputs": [],
   "source": [
    "import numpy as np"
   ]
  },
  {
   "cell_type": "code",
   "execution_count": 7,
   "id": "e91f09f3-f511-4a71-a675-c8c43a3efc93",
   "metadata": {},
   "outputs": [],
   "source": [
    "numeric_data = data.select_dtypes(include=[np.number])"
   ]
  },
  {
   "cell_type": "code",
   "execution_count": 8,
   "id": "5465a1b2-ac1f-4148-9b87-2f0f9db39fa3",
   "metadata": {},
   "outputs": [
    {
     "data": {
      "text/html": [
       "<div>\n",
       "<style scoped>\n",
       "    .dataframe tbody tr th:only-of-type {\n",
       "        vertical-align: middle;\n",
       "    }\n",
       "\n",
       "    .dataframe tbody tr th {\n",
       "        vertical-align: top;\n",
       "    }\n",
       "\n",
       "    .dataframe thead th {\n",
       "        text-align: right;\n",
       "    }\n",
       "</style>\n",
       "<table border=\"1\" class=\"dataframe\">\n",
       "  <thead>\n",
       "    <tr style=\"text-align: right;\">\n",
       "      <th></th>\n",
       "      <th>Unnamed: 0</th>\n",
       "      <th>Age</th>\n",
       "      <th>Sex</th>\n",
       "      <th>RestBP</th>\n",
       "      <th>Chol</th>\n",
       "      <th>Fbs</th>\n",
       "      <th>RestECG</th>\n",
       "      <th>MaxHR</th>\n",
       "      <th>ExAng</th>\n",
       "      <th>Oldpeak</th>\n",
       "      <th>Slope</th>\n",
       "      <th>Ca</th>\n",
       "    </tr>\n",
       "  </thead>\n",
       "  <tbody>\n",
       "    <tr>\n",
       "      <th>0</th>\n",
       "      <td>1</td>\n",
       "      <td>63</td>\n",
       "      <td>1</td>\n",
       "      <td>145</td>\n",
       "      <td>233</td>\n",
       "      <td>1</td>\n",
       "      <td>2</td>\n",
       "      <td>150</td>\n",
       "      <td>0</td>\n",
       "      <td>2.3</td>\n",
       "      <td>3</td>\n",
       "      <td>0.0</td>\n",
       "    </tr>\n",
       "    <tr>\n",
       "      <th>1</th>\n",
       "      <td>2</td>\n",
       "      <td>67</td>\n",
       "      <td>1</td>\n",
       "      <td>160</td>\n",
       "      <td>286</td>\n",
       "      <td>0</td>\n",
       "      <td>2</td>\n",
       "      <td>108</td>\n",
       "      <td>1</td>\n",
       "      <td>1.5</td>\n",
       "      <td>2</td>\n",
       "      <td>3.0</td>\n",
       "    </tr>\n",
       "    <tr>\n",
       "      <th>2</th>\n",
       "      <td>3</td>\n",
       "      <td>67</td>\n",
       "      <td>1</td>\n",
       "      <td>120</td>\n",
       "      <td>229</td>\n",
       "      <td>0</td>\n",
       "      <td>2</td>\n",
       "      <td>129</td>\n",
       "      <td>1</td>\n",
       "      <td>2.6</td>\n",
       "      <td>2</td>\n",
       "      <td>2.0</td>\n",
       "    </tr>\n",
       "    <tr>\n",
       "      <th>3</th>\n",
       "      <td>4</td>\n",
       "      <td>37</td>\n",
       "      <td>1</td>\n",
       "      <td>130</td>\n",
       "      <td>250</td>\n",
       "      <td>0</td>\n",
       "      <td>0</td>\n",
       "      <td>187</td>\n",
       "      <td>0</td>\n",
       "      <td>3.5</td>\n",
       "      <td>3</td>\n",
       "      <td>0.0</td>\n",
       "    </tr>\n",
       "    <tr>\n",
       "      <th>4</th>\n",
       "      <td>5</td>\n",
       "      <td>41</td>\n",
       "      <td>0</td>\n",
       "      <td>130</td>\n",
       "      <td>204</td>\n",
       "      <td>0</td>\n",
       "      <td>2</td>\n",
       "      <td>172</td>\n",
       "      <td>0</td>\n",
       "      <td>1.4</td>\n",
       "      <td>1</td>\n",
       "      <td>0.0</td>\n",
       "    </tr>\n",
       "    <tr>\n",
       "      <th>...</th>\n",
       "      <td>...</td>\n",
       "      <td>...</td>\n",
       "      <td>...</td>\n",
       "      <td>...</td>\n",
       "      <td>...</td>\n",
       "      <td>...</td>\n",
       "      <td>...</td>\n",
       "      <td>...</td>\n",
       "      <td>...</td>\n",
       "      <td>...</td>\n",
       "      <td>...</td>\n",
       "      <td>...</td>\n",
       "    </tr>\n",
       "    <tr>\n",
       "      <th>298</th>\n",
       "      <td>299</td>\n",
       "      <td>45</td>\n",
       "      <td>1</td>\n",
       "      <td>110</td>\n",
       "      <td>264</td>\n",
       "      <td>0</td>\n",
       "      <td>0</td>\n",
       "      <td>132</td>\n",
       "      <td>0</td>\n",
       "      <td>1.2</td>\n",
       "      <td>2</td>\n",
       "      <td>0.0</td>\n",
       "    </tr>\n",
       "    <tr>\n",
       "      <th>299</th>\n",
       "      <td>300</td>\n",
       "      <td>68</td>\n",
       "      <td>1</td>\n",
       "      <td>144</td>\n",
       "      <td>193</td>\n",
       "      <td>1</td>\n",
       "      <td>0</td>\n",
       "      <td>141</td>\n",
       "      <td>0</td>\n",
       "      <td>3.4</td>\n",
       "      <td>2</td>\n",
       "      <td>2.0</td>\n",
       "    </tr>\n",
       "    <tr>\n",
       "      <th>300</th>\n",
       "      <td>301</td>\n",
       "      <td>57</td>\n",
       "      <td>1</td>\n",
       "      <td>130</td>\n",
       "      <td>131</td>\n",
       "      <td>0</td>\n",
       "      <td>0</td>\n",
       "      <td>115</td>\n",
       "      <td>1</td>\n",
       "      <td>1.2</td>\n",
       "      <td>2</td>\n",
       "      <td>1.0</td>\n",
       "    </tr>\n",
       "    <tr>\n",
       "      <th>301</th>\n",
       "      <td>302</td>\n",
       "      <td>57</td>\n",
       "      <td>0</td>\n",
       "      <td>130</td>\n",
       "      <td>236</td>\n",
       "      <td>0</td>\n",
       "      <td>2</td>\n",
       "      <td>174</td>\n",
       "      <td>0</td>\n",
       "      <td>0.0</td>\n",
       "      <td>2</td>\n",
       "      <td>1.0</td>\n",
       "    </tr>\n",
       "    <tr>\n",
       "      <th>302</th>\n",
       "      <td>303</td>\n",
       "      <td>38</td>\n",
       "      <td>1</td>\n",
       "      <td>138</td>\n",
       "      <td>175</td>\n",
       "      <td>0</td>\n",
       "      <td>0</td>\n",
       "      <td>173</td>\n",
       "      <td>0</td>\n",
       "      <td>0.0</td>\n",
       "      <td>1</td>\n",
       "      <td>NaN</td>\n",
       "    </tr>\n",
       "  </tbody>\n",
       "</table>\n",
       "<p>303 rows × 12 columns</p>\n",
       "</div>"
      ],
      "text/plain": [
       "     Unnamed: 0  Age  Sex  RestBP  Chol  Fbs  RestECG  MaxHR  ExAng  Oldpeak  \\\n",
       "0             1   63    1     145   233    1        2    150      0      2.3   \n",
       "1             2   67    1     160   286    0        2    108      1      1.5   \n",
       "2             3   67    1     120   229    0        2    129      1      2.6   \n",
       "3             4   37    1     130   250    0        0    187      0      3.5   \n",
       "4             5   41    0     130   204    0        2    172      0      1.4   \n",
       "..          ...  ...  ...     ...   ...  ...      ...    ...    ...      ...   \n",
       "298         299   45    1     110   264    0        0    132      0      1.2   \n",
       "299         300   68    1     144   193    1        0    141      0      3.4   \n",
       "300         301   57    1     130   131    0        0    115      1      1.2   \n",
       "301         302   57    0     130   236    0        2    174      0      0.0   \n",
       "302         303   38    1     138   175    0        0    173      0      0.0   \n",
       "\n",
       "     Slope   Ca  \n",
       "0        3  0.0  \n",
       "1        2  3.0  \n",
       "2        2  2.0  \n",
       "3        3  0.0  \n",
       "4        1  0.0  \n",
       "..     ...  ...  \n",
       "298      2  0.0  \n",
       "299      2  2.0  \n",
       "300      2  1.0  \n",
       "301      2  1.0  \n",
       "302      1  NaN  \n",
       "\n",
       "[303 rows x 12 columns]"
      ]
     },
     "execution_count": 8,
     "metadata": {},
     "output_type": "execute_result"
    }
   ],
   "source": [
    "numeric_data"
   ]
  },
  {
   "cell_type": "code",
   "execution_count": 10,
   "id": "c32cd279-2a6d-4ef7-94d9-e1697c3677b7",
   "metadata": {},
   "outputs": [],
   "source": [
    "std_dev = numeric_data.std()"
   ]
  },
  {
   "cell_type": "code",
   "execution_count": 11,
   "id": "6c326549-8075-4f18-9478-5c99c1619679",
   "metadata": {},
   "outputs": [
    {
     "name": "stdout",
     "output_type": "stream",
     "text": [
      "Standered Deviation :  Unnamed: 0    87.612784\n",
      "Age            9.038662\n",
      "Sex            0.467299\n",
      "RestBP        17.599748\n",
      "Chol          51.776918\n",
      "Fbs            0.356198\n",
      "RestECG        0.994971\n",
      "MaxHR         22.875003\n",
      "ExAng          0.469794\n",
      "Oldpeak        1.161075\n",
      "Slope          0.616226\n",
      "Ca             0.937438\n",
      "dtype: float64\n"
     ]
    }
   ],
   "source": [
    "print('Standered Deviation : ', std_dev)"
   ]
  },
  {
   "cell_type": "code",
   "execution_count": 12,
   "id": "6900eaeb-d583-4375-8293-aecdadac37a4",
   "metadata": {},
   "outputs": [],
   "source": [
    "var = numeric_data.var()"
   ]
  },
  {
   "cell_type": "code",
   "execution_count": 13,
   "id": "0ec5d1a0-21b2-41d0-85b8-1684efc88dc0",
   "metadata": {},
   "outputs": [
    {
     "name": "stdout",
     "output_type": "stream",
     "text": [
      "Varience :  Unnamed: 0    7676.000000\n",
      "Age             81.697419\n",
      "Sex              0.218368\n",
      "RestBP         309.751120\n",
      "Chol          2680.849190\n",
      "Fbs              0.126877\n",
      "RestECG          0.989968\n",
      "MaxHR          523.265775\n",
      "ExAng            0.220707\n",
      "Oldpeak          1.348095\n",
      "Slope            0.379735\n",
      "Ca               0.878791\n",
      "dtype: float64\n"
     ]
    }
   ],
   "source": [
    "print('Varience : ', var)"
   ]
  },
  {
   "cell_type": "code",
   "execution_count": 14,
   "id": "35cf23ac-9670-48b7-957b-ca17c347e576",
   "metadata": {},
   "outputs": [
    {
     "data": {
      "text/plain": [
       "Unnamed: 0    0\n",
       "Age           0\n",
       "Sex           0\n",
       "ChestPain     0\n",
       "RestBP        0\n",
       "Chol          0\n",
       "Fbs           0\n",
       "RestECG       0\n",
       "MaxHR         0\n",
       "ExAng         0\n",
       "Oldpeak       0\n",
       "Slope         0\n",
       "Ca            4\n",
       "Thal          2\n",
       "AHD           0\n",
       "dtype: int64"
      ]
     },
     "execution_count": 14,
     "metadata": {},
     "output_type": "execute_result"
    }
   ],
   "source": [
    "data.isnull().sum()"
   ]
  },
  {
   "cell_type": "code",
   "execution_count": 15,
   "id": "ac1a46a3-17d5-405f-b108-0b7ff8c14ae8",
   "metadata": {},
   "outputs": [
    {
     "data": {
      "text/plain": [
       "0      0.0\n",
       "1      3.0\n",
       "2      2.0\n",
       "3      0.0\n",
       "4      0.0\n",
       "      ... \n",
       "298    0.0\n",
       "299    2.0\n",
       "300    1.0\n",
       "301    1.0\n",
       "302    NaN\n",
       "Name: Ca, Length: 303, dtype: float64"
      ]
     },
     "execution_count": 15,
     "metadata": {},
     "output_type": "execute_result"
    }
   ],
   "source": [
    "data['Ca']"
   ]
  },
  {
   "cell_type": "code",
   "execution_count": 16,
   "id": "b03205a7-30ed-4da6-8230-b0fde44c23ba",
   "metadata": {},
   "outputs": [
    {
     "data": {
      "text/plain": [
       "0           fixed\n",
       "1          normal\n",
       "2      reversable\n",
       "3          normal\n",
       "4          normal\n",
       "          ...    \n",
       "298    reversable\n",
       "299    reversable\n",
       "300    reversable\n",
       "301        normal\n",
       "302        normal\n",
       "Name: Thal, Length: 303, dtype: object"
      ]
     },
     "execution_count": 16,
     "metadata": {},
     "output_type": "execute_result"
    }
   ],
   "source": [
    "data['Thal']"
   ]
  },
  {
   "cell_type": "code",
   "execution_count": 18,
   "id": "ceb21998-e8ab-47c1-93ff-c818a9c01fcf",
   "metadata": {},
   "outputs": [],
   "source": [
    "data['Ca'].fillna(data['Ca'].mean(),inplace=True)"
   ]
  },
  {
   "cell_type": "code",
   "execution_count": 19,
   "id": "7ddaee8a-140e-40a5-ade9-fa94850415bf",
   "metadata": {},
   "outputs": [
    {
     "data": {
      "text/plain": [
       "Unnamed: 0    0\n",
       "Age           0\n",
       "Sex           0\n",
       "ChestPain     0\n",
       "RestBP        0\n",
       "Chol          0\n",
       "Fbs           0\n",
       "RestECG       0\n",
       "MaxHR         0\n",
       "ExAng         0\n",
       "Oldpeak       0\n",
       "Slope         0\n",
       "Ca            0\n",
       "Thal          2\n",
       "AHD           0\n",
       "dtype: int64"
      ]
     },
     "execution_count": 19,
     "metadata": {},
     "output_type": "execute_result"
    }
   ],
   "source": [
    "data.isnull().sum()"
   ]
  },
  {
   "cell_type": "code",
   "execution_count": 20,
   "id": "45b65898-d64d-4789-8869-4c904e7a2171",
   "metadata": {},
   "outputs": [
    {
     "data": {
      "text/plain": [
       "0    normal\n",
       "Name: Thal, dtype: object"
      ]
     },
     "execution_count": 20,
     "metadata": {},
     "output_type": "execute_result"
    }
   ],
   "source": [
    "data['Thal'].mode()"
   ]
  },
  {
   "cell_type": "code",
   "execution_count": 21,
   "id": "c9bae0b9-8beb-42a0-9ca2-4d7e23b89651",
   "metadata": {},
   "outputs": [],
   "source": [
    "data['Thal'].fillna(str(data['Thal'].mode),inplace=True)"
   ]
  },
  {
   "cell_type": "code",
   "execution_count": 22,
   "id": "609a60f4-a0d9-438e-adf9-d8b92a92224b",
   "metadata": {},
   "outputs": [
    {
     "data": {
      "text/plain": [
       "Unnamed: 0    0\n",
       "Age           0\n",
       "Sex           0\n",
       "ChestPain     0\n",
       "RestBP        0\n",
       "Chol          0\n",
       "Fbs           0\n",
       "RestECG       0\n",
       "MaxHR         0\n",
       "ExAng         0\n",
       "Oldpeak       0\n",
       "Slope         0\n",
       "Ca            0\n",
       "Thal          0\n",
       "AHD           0\n",
       "dtype: int64"
      ]
     },
     "execution_count": 22,
     "metadata": {},
     "output_type": "execute_result"
    }
   ],
   "source": [
    "data.isnull().sum()"
   ]
  },
  {
   "cell_type": "code",
   "execution_count": 23,
   "id": "46be6e96-f095-445d-8751-57b0b93e29e8",
   "metadata": {},
   "outputs": [
    {
     "data": {
      "text/plain": [
       "(303, 15)"
      ]
     },
     "execution_count": 23,
     "metadata": {},
     "output_type": "execute_result"
    }
   ],
   "source": [
    "data.shape"
   ]
  },
  {
   "cell_type": "code",
   "execution_count": 24,
   "id": "45115f3c-7ead-4d7c-bbe0-3ec5a17832d3",
   "metadata": {},
   "outputs": [],
   "source": [
    "numeric_data = data.select_dtypes(include=[np.number])"
   ]
  },
  {
   "cell_type": "code",
   "execution_count": 25,
   "id": "deaecaea-50ce-4643-b5e1-2e2d03285ea7",
   "metadata": {},
   "outputs": [],
   "source": [
    "std = numeric_data.std()"
   ]
  },
  {
   "cell_type": "code",
   "execution_count": 26,
   "id": "c8ff9252-8735-4f7e-945b-104778117d1a",
   "metadata": {},
   "outputs": [
    {
     "data": {
      "text/plain": [
       "Unnamed: 0    87.612784\n",
       "Age            9.038662\n",
       "Sex            0.467299\n",
       "RestBP        17.599748\n",
       "Chol          51.776918\n",
       "Fbs            0.356198\n",
       "RestECG        0.994971\n",
       "MaxHR         22.875003\n",
       "ExAng          0.469794\n",
       "Oldpeak        1.161075\n",
       "Slope          0.616226\n",
       "Ca             0.931209\n",
       "dtype: float64"
      ]
     },
     "execution_count": 26,
     "metadata": {},
     "output_type": "execute_result"
    }
   ],
   "source": [
    "std"
   ]
  },
  {
   "cell_type": "code",
   "execution_count": 29,
   "id": "847b4235-02b1-4401-847f-b7323eeafde4",
   "metadata": {},
   "outputs": [
    {
     "data": {
      "image/png": "[encoded data removed]",
      "text/plain": [
       "<Figure size 800x800 with 1 Axes>"
      ]
     },
     "metadata": {},
     "output_type": "display_data"
    }
   ],
   "source": [
    "import matplotlib.pyplot as plt\n",
    "data.boxplot(figsize = (8,8))\n",
    "plt.show()"
   ]
  },
  {
   "cell_type": "code",
   "execution_count": 31,
   "id": "9b741e47-b82e-48c3-b79d-fb270b48eb93",
   "metadata": {},
   "outputs": [
    {
     "data": {
      "image/png": "[encoded data removed]",
      "text/plain": [
       "<Figure size 640x480 with 1 Axes>"
      ]
     },
     "metadata": {},
     "output_type": "display_data"
    }
   ],
   "source": [
    "import seaborn as sns\n",
    "sns.boxplot(x=data['Ca'])\n",
    "plt.show()"
   ]
  },
  {
   "cell_type": "code",
   "execution_count": 32,
   "id": "1a1f72cb-982b-459d-9be4-f90896eb93e5",
   "metadata": {},
   "outputs": [
    {
     "name": "stdout",
     "output_type": "stream",
     "text": [
      "\n",
      "Covariance Matrix:\n",
      "              Unnamed: 0        Age       Sex      RestBP         Chol  \\\n",
      "Unnamed: 0  7676.000000  -1.874172 -2.900662  -33.966887  -433.301325   \n",
      "Age           -1.874172  81.697419 -0.411995   45.328678    97.787489   \n",
      "Sex           -2.900662  -0.411995  0.218368   -0.530107    -4.836994   \n",
      "RestBP       -33.966887  45.328678 -0.530107  309.751120   118.573339   \n",
      "Chol        -433.301325  97.787489 -4.836994  118.573339  2680.849190   \n",
      "Fbs           -1.231788   0.381614  0.007967    1.099207     0.181496   \n",
      "RestECG      -13.096026   1.338797  0.010065    2.566455     8.811521   \n",
      "MaxHR       -211.413907 -81.423065 -0.520184  -18.258005    -4.064651   \n",
      "ExAng         -0.016556   0.389220  0.032096    0.535473     1.491345   \n",
      "Oldpeak      -12.246026   2.138850  0.055436    3.865638     2.799282   \n",
      "Slope         -1.536424   0.901034  0.010808    1.273053    -0.129598   \n",
      "Ca             3.793307   3.025781  0.040422    1.617721     5.714678   \n",
      "\n",
      "                 Fbs    RestECG       MaxHR     ExAng    Oldpeak     Slope  \\\n",
      "Unnamed: 0 -1.231788 -13.096026 -211.413907 -0.016556 -12.246026 -1.536424   \n",
      "Age         0.381614   1.338797  -81.423065  0.389220   2.138850  0.901034   \n",
      "Sex         0.007967   0.010065   -0.520184  0.032096   0.055436  0.010808   \n",
      "RestBP      1.099207   2.566455  -18.258005  0.535473   3.865638  1.273053   \n",
      "Chol        0.181496   8.811521   -4.064651  1.491345   2.799282 -0.129598   \n",
      "Fbs         0.126877   0.024654   -0.063996  0.004295   0.002377  0.013147   \n",
      "RestECG     0.024654   0.989968   -1.897941  0.039670   0.131850  0.082126   \n",
      "MaxHR      -0.063996  -1.897941  523.265775 -4.063307  -9.112209 -5.435501   \n",
      "ExAng       0.004295   0.039670   -4.063307  0.220707   0.157216  0.074618   \n",
      "Oldpeak     0.002377   0.131850   -9.112209  0.157216   1.348095  0.413219   \n",
      "Slope       0.013147   0.082126   -5.435501  0.074618   0.413219  0.379735   \n",
      "Ca          0.047753   0.118120   -5.610955  0.063313   0.318478  0.062903   \n",
      "\n",
      "                  Ca  \n",
      "Unnamed: 0  3.793307  \n",
      "Age         3.025781  \n",
      "Sex         0.040422  \n",
      "RestBP      1.617721  \n",
      "Chol        5.714678  \n",
      "Fbs         0.047753  \n",
      "RestECG     0.118120  \n",
      "MaxHR      -5.610955  \n",
      "ExAng       0.063313  \n",
      "Oldpeak     0.318478  \n",
      "Slope       0.062903  \n",
      "Ca          0.867151  \n",
      "\n",
      "Correlation Matrix:\n",
      "             Unnamed: 0       Age       Sex    RestBP      Chol       Fbs  \\\n",
      "Unnamed: 0    1.000000 -0.002367 -0.070849 -0.022028 -0.095518 -0.039471   \n",
      "Age          -0.002367  1.000000 -0.097542  0.284946  0.208950  0.118530   \n",
      "Sex          -0.070849 -0.097542  1.000000 -0.064456 -0.199915  0.047862   \n",
      "RestBP       -0.022028  0.284946 -0.064456  1.000000  0.130120  0.175340   \n",
      "Chol         -0.095518  0.208950 -0.199915  0.130120  1.000000  0.009841   \n",
      "Fbs          -0.039471  0.118530  0.047862  0.175340  0.009841  1.000000   \n",
      "RestECG      -0.150232  0.148868  0.021647  0.146560  0.171043  0.069564   \n",
      "MaxHR        -0.105488 -0.393806 -0.048663 -0.045351 -0.003432 -0.007854   \n",
      "ExAng        -0.000402  0.091661  0.146201  0.064762  0.061310  0.025665   \n",
      "Oldpeak      -0.120384  0.203805  0.102173  0.189171  0.046564  0.005747   \n",
      "Slope        -0.028458  0.161770  0.037533  0.117382 -0.004062  0.059894   \n",
      "Ca            0.046495  0.359489  0.092891  0.098707  0.118525  0.143967   \n",
      "\n",
      "             RestECG     MaxHR     ExAng   Oldpeak     Slope        Ca  \n",
      "Unnamed: 0 -0.150232 -0.105488 -0.000402 -0.120384 -0.028458  0.046495  \n",
      "Age         0.148868 -0.393806  0.091661  0.203805  0.161770  0.359489  \n",
      "Sex         0.021647 -0.048663  0.146201  0.102173  0.037533  0.092891  \n",
      "RestBP      0.146560 -0.045351  0.064762  0.189171  0.117382  0.098707  \n",
      "Chol        0.171043 -0.003432  0.061310  0.046564 -0.004062  0.118525  \n",
      "Fbs         0.069564 -0.007854  0.025665  0.005747  0.059894  0.143967  \n",
      "RestECG     1.000000 -0.083389  0.084867  0.114133  0.133946  0.127487  \n",
      "MaxHR      -0.083389  1.000000 -0.378103 -0.343085 -0.385601 -0.263408  \n",
      "ExAng       0.084867 -0.378103  1.000000  0.288223  0.257748  0.144722  \n",
      "Oldpeak     0.114133 -0.343085  0.288223  1.000000  0.577537  0.294558  \n",
      "Slope       0.133946 -0.385601  0.257748  0.577537  1.000000  0.109618  \n",
      "Ca          0.127487 -0.263408  0.144722  0.294558  0.109618  1.000000  \n"
     ]
    }
   ],
   "source": [
    "covariance_matrix = numeric_data.cov()\n",
    "correlation_matrix = numeric_data.corr()\n",
    "print(\"\\nCovariance Matrix:\\n\", covariance_matrix)\n",
    "print(\"\\nCorrelation Matrix:\\n\", correlation_matrix)"
   ]
  },
  {
   "cell_type": "code",
   "execution_count": 33,
   "id": "eb54ef01-a44e-479c-986a-a8d145b2ec04",
   "metadata": {},
   "outputs": [
    {
     "name": "stdout",
     "output_type": "stream",
     "text": [
      "\n",
      "Number of independent features: 12\n"
     ]
    }
   ],
   "source": [
    "independent_features = np.linalg.matrix_rank(numeric_data.corr())\n",
    "print(\"\\nNumber of independent features:\", independent_features)"
   ]
  },
  {
   "cell_type": "code",
   "execution_count": 34,
   "id": "1f503db3-4899-468c-9852-0017168fdd90",
   "metadata": {},
   "outputs": [
    {
     "name": "stdout",
     "output_type": "stream",
     "text": [
      "\n",
      "d) Unwanted features: set()\n"
     ]
    }
   ],
   "source": [
    "unwanted_features = set()\n",
    "for i in range(len(correlation_matrix.columns)):\n",
    "    for j in range(i):\n",
    "        if abs(correlation_matrix.iloc[i, j]) > 0.8:\n",
    "            colname = correlation_matrix.columns[i]\n",
    "            unwanted_features.add(colname)\n",
    "\n",
    "print(\"\\nd) Unwanted features:\", unwanted_features)"
   ]
  },
  {
   "cell_type": "code",
   "execution_count": 35,
   "id": "020e6ae8-42bb-4d29-9bf9-a1da785c0b51",
   "metadata": {},
   "outputs": [],
   "source": [
    "# e) Perform data discretization using equi-frequency binning method on the age attribute\n",
    "num_bins = 5  # Choose the number of bins as needed\n",
    "data['age_bins'] = pd.qcut(data['Age'], q=num_bins, labels=False)"
   ]
  },
  {
   "cell_type": "code",
   "execution_count": 36,
   "id": "3db04191-1f62-4025-b7e2-32900b237cef",
   "metadata": {},
   "outputs": [
    {
     "data": {
      "image/png": "[encoded data removed]",
      "text/plain": [
       "<Figure size 500x300 with 1 Axes>"
      ]
     },
     "metadata": {},
     "output_type": "display_data"
    }
   ],
   "source": [
    "plt.figure(figsize=(5, 3))\n",
    "plt.hist(data['Age'], bins=num_bins, edgecolor='black', alpha=0.7)\n",
    "plt.title('Equi-Frequency Binning for Age Attribute')\n",
    "plt.xlabel('Age')\n",
    "plt.ylabel('Frequency')\n",
    "plt.show()"
   ]
  },
  {
   "cell_type": "code",
   "execution_count": 37,
   "id": "10853bf6-9b27-4f8a-8a7c-4b71f490785e",
   "metadata": {},
   "outputs": [],
   "source": [
    "from sklearn.preprocessing import MinMaxScaler, StandardScaler"
   ]
  },
  {
   "cell_type": "code",
   "execution_count": 38,
   "id": "38fc159e-53ab-4179-95e2-7e813faac8b9",
   "metadata": {},
   "outputs": [],
   "source": [
    "# f) Normalize RestBP, chol, and MaxHR attributes using different normalization techniques\n",
    "attributes_to_normalize = ['RestBP', 'Chol', 'MaxHR']\n",
    "\n",
    "# Min-Max normalization\n",
    "min_max_scaler = MinMaxScaler()\n",
    "data_min_max_normalized = data.copy()\n",
    "data_min_max_normalized[attributes_to_normalize] = min_max_scaler.fit_transform(data[attributes_to_normalize])"
   ]
  },
  {
   "cell_type": "code",
   "execution_count": 39,
   "id": "33d2e319-5873-4ad7-a82a-b3c2c841e488",
   "metadata": {},
   "outputs": [
    {
     "data": {
      "text/html": [
       "<div>\n",
       "<style scoped>\n",
       "    .dataframe tbody tr th:only-of-type {\n",
       "        vertical-align: middle;\n",
       "    }\n",
       "\n",
       "    .dataframe tbody tr th {\n",
       "        vertical-align: top;\n",
       "    }\n",
       "\n",
       "    .dataframe thead th {\n",
       "        text-align: right;\n",
       "    }\n",
       "</style>\n",
       "<table border=\"1\" class=\"dataframe\">\n",
       "  <thead>\n",
       "    <tr style=\"text-align: right;\">\n",
       "      <th></th>\n",
       "      <th>RestBP</th>\n",
       "      <th>Chol</th>\n",
       "      <th>MaxHR</th>\n",
       "    </tr>\n",
       "  </thead>\n",
       "  <tbody>\n",
       "    <tr>\n",
       "      <th>0</th>\n",
       "      <td>0.481132</td>\n",
       "      <td>0.244292</td>\n",
       "      <td>0.603053</td>\n",
       "    </tr>\n",
       "    <tr>\n",
       "      <th>1</th>\n",
       "      <td>0.622642</td>\n",
       "      <td>0.365297</td>\n",
       "      <td>0.282443</td>\n",
       "    </tr>\n",
       "    <tr>\n",
       "      <th>2</th>\n",
       "      <td>0.245283</td>\n",
       "      <td>0.235160</td>\n",
       "      <td>0.442748</td>\n",
       "    </tr>\n",
       "    <tr>\n",
       "      <th>3</th>\n",
       "      <td>0.339623</td>\n",
       "      <td>0.283105</td>\n",
       "      <td>0.885496</td>\n",
       "    </tr>\n",
       "    <tr>\n",
       "      <th>4</th>\n",
       "      <td>0.339623</td>\n",
       "      <td>0.178082</td>\n",
       "      <td>0.770992</td>\n",
       "    </tr>\n",
       "    <tr>\n",
       "      <th>...</th>\n",
       "      <td>...</td>\n",
       "      <td>...</td>\n",
       "      <td>...</td>\n",
       "    </tr>\n",
       "    <tr>\n",
       "      <th>298</th>\n",
       "      <td>0.150943</td>\n",
       "      <td>0.315068</td>\n",
       "      <td>0.465649</td>\n",
       "    </tr>\n",
       "    <tr>\n",
       "      <th>299</th>\n",
       "      <td>0.471698</td>\n",
       "      <td>0.152968</td>\n",
       "      <td>0.534351</td>\n",
       "    </tr>\n",
       "    <tr>\n",
       "      <th>300</th>\n",
       "      <td>0.339623</td>\n",
       "      <td>0.011416</td>\n",
       "      <td>0.335878</td>\n",
       "    </tr>\n",
       "    <tr>\n",
       "      <th>301</th>\n",
       "      <td>0.339623</td>\n",
       "      <td>0.251142</td>\n",
       "      <td>0.786260</td>\n",
       "    </tr>\n",
       "    <tr>\n",
       "      <th>302</th>\n",
       "      <td>0.415094</td>\n",
       "      <td>0.111872</td>\n",
       "      <td>0.778626</td>\n",
       "    </tr>\n",
       "  </tbody>\n",
       "</table>\n",
       "<p>303 rows × 3 columns</p>\n",
       "</div>"
      ],
      "text/plain": [
       "       RestBP      Chol     MaxHR\n",
       "0    0.481132  0.244292  0.603053\n",
       "1    0.622642  0.365297  0.282443\n",
       "2    0.245283  0.235160  0.442748\n",
       "3    0.339623  0.283105  0.885496\n",
       "4    0.339623  0.178082  0.770992\n",
       "..        ...       ...       ...\n",
       "298  0.150943  0.315068  0.465649\n",
       "299  0.471698  0.152968  0.534351\n",
       "300  0.339623  0.011416  0.335878\n",
       "301  0.339623  0.251142  0.786260\n",
       "302  0.415094  0.111872  0.778626\n",
       "\n",
       "[303 rows x 3 columns]"
      ]
     },
     "execution_count": 39,
     "metadata": {},
     "output_type": "execute_result"
    }
   ],
   "source": [
    "data_min_max_normalized[attributes_to_normalize]"
   ]
  },
  {
   "cell_type": "code",
   "execution_count": 40,
   "id": "6eb34749-b67e-47cd-9ae3-5545d25dd807",
   "metadata": {},
   "outputs": [],
   "source": [
    "# Z-score normalization\n",
    "z_score_scaler = StandardScaler()\n",
    "data_z_score_normalized = data.copy()\n",
    "data_z_score_normalized[attributes_to_normalize] = z_score_scaler.fit_transform(data[attributes_to_normalize])"
   ]
  },
  {
   "cell_type": "code",
   "execution_count": 41,
   "id": "af01a3c0-12ac-463c-8298-c38a04101801",
   "metadata": {},
   "outputs": [
    {
     "data": {
      "text/html": [
       "<div>\n",
       "<style scoped>\n",
       "    .dataframe tbody tr th:only-of-type {\n",
       "        vertical-align: middle;\n",
       "    }\n",
       "\n",
       "    .dataframe tbody tr th {\n",
       "        vertical-align: top;\n",
       "    }\n",
       "\n",
       "    .dataframe thead th {\n",
       "        text-align: right;\n",
       "    }\n",
       "</style>\n",
       "<table border=\"1\" class=\"dataframe\">\n",
       "  <thead>\n",
       "    <tr style=\"text-align: right;\">\n",
       "      <th></th>\n",
       "      <th>RestBP</th>\n",
       "      <th>Chol</th>\n",
       "      <th>MaxHR</th>\n",
       "    </tr>\n",
       "  </thead>\n",
       "  <tbody>\n",
       "    <tr>\n",
       "      <th>0</th>\n",
       "      <td>0.757525</td>\n",
       "      <td>-0.264900</td>\n",
       "      <td>0.017197</td>\n",
       "    </tr>\n",
       "    <tr>\n",
       "      <th>1</th>\n",
       "      <td>1.611220</td>\n",
       "      <td>0.760415</td>\n",
       "      <td>-1.821905</td>\n",
       "    </tr>\n",
       "    <tr>\n",
       "      <th>2</th>\n",
       "      <td>-0.665300</td>\n",
       "      <td>-0.342283</td>\n",
       "      <td>-0.902354</td>\n",
       "    </tr>\n",
       "    <tr>\n",
       "      <th>3</th>\n",
       "      <td>-0.096170</td>\n",
       "      <td>0.063974</td>\n",
       "      <td>1.637359</td>\n",
       "    </tr>\n",
       "    <tr>\n",
       "      <th>4</th>\n",
       "      <td>-0.096170</td>\n",
       "      <td>-0.825922</td>\n",
       "      <td>0.980537</td>\n",
       "    </tr>\n",
       "    <tr>\n",
       "      <th>...</th>\n",
       "      <td>...</td>\n",
       "      <td>...</td>\n",
       "      <td>...</td>\n",
       "    </tr>\n",
       "    <tr>\n",
       "      <th>298</th>\n",
       "      <td>-1.234430</td>\n",
       "      <td>0.334813</td>\n",
       "      <td>-0.770990</td>\n",
       "    </tr>\n",
       "    <tr>\n",
       "      <th>299</th>\n",
       "      <td>0.700612</td>\n",
       "      <td>-1.038723</td>\n",
       "      <td>-0.376896</td>\n",
       "    </tr>\n",
       "    <tr>\n",
       "      <th>300</th>\n",
       "      <td>-0.096170</td>\n",
       "      <td>-2.238149</td>\n",
       "      <td>-1.515388</td>\n",
       "    </tr>\n",
       "    <tr>\n",
       "      <th>301</th>\n",
       "      <td>-0.096170</td>\n",
       "      <td>-0.206864</td>\n",
       "      <td>1.068113</td>\n",
       "    </tr>\n",
       "    <tr>\n",
       "      <th>302</th>\n",
       "      <td>0.359134</td>\n",
       "      <td>-1.386944</td>\n",
       "      <td>1.024325</td>\n",
       "    </tr>\n",
       "  </tbody>\n",
       "</table>\n",
       "<p>303 rows × 3 columns</p>\n",
       "</div>"
      ],
      "text/plain": [
       "       RestBP      Chol     MaxHR\n",
       "0    0.757525 -0.264900  0.017197\n",
       "1    1.611220  0.760415 -1.821905\n",
       "2   -0.665300 -0.342283 -0.902354\n",
       "3   -0.096170  0.063974  1.637359\n",
       "4   -0.096170 -0.825922  0.980537\n",
       "..        ...       ...       ...\n",
       "298 -1.234430  0.334813 -0.770990\n",
       "299  0.700612 -1.038723 -0.376896\n",
       "300 -0.096170 -2.238149 -1.515388\n",
       "301 -0.096170 -0.206864  1.068113\n",
       "302  0.359134 -1.386944  1.024325\n",
       "\n",
       "[303 rows x 3 columns]"
      ]
     },
     "execution_count": 41,
     "metadata": {},
     "output_type": "execute_result"
    }
   ],
   "source": [
    "data_z_score_normalized[attributes_to_normalize]"
   ]
  },
  {
   "cell_type": "code",
   "execution_count": 42,
   "id": "104514b5-d900-4164-ade5-5002743c3e39",
   "metadata": {},
   "outputs": [],
   "source": [
    "decimal_scaling_factor = 10 ** (len(str(int(data[attributes_to_normalize].abs().max().max()))) - 1)\n",
    "data_decimal_scaled = data.copy()\n",
    "data_decimal_scaled[attributes_to_normalize] = data[attributes_to_normalize] / decimal_scaling_factor"
   ]
  },
  {
   "cell_type": "code",
   "execution_count": 43,
   "id": "0a6bd957-9d31-4893-832a-7b8ad0e7620e",
   "metadata": {},
   "outputs": [
    {
     "data": {
      "text/html": [
       "<div>\n",
       "<style scoped>\n",
       "    .dataframe tbody tr th:only-of-type {\n",
       "        vertical-align: middle;\n",
       "    }\n",
       "\n",
       "    .dataframe tbody tr th {\n",
       "        vertical-align: top;\n",
       "    }\n",
       "\n",
       "    .dataframe thead th {\n",
       "        text-align: right;\n",
       "    }\n",
       "</style>\n",
       "<table border=\"1\" class=\"dataframe\">\n",
       "  <thead>\n",
       "    <tr style=\"text-align: right;\">\n",
       "      <th></th>\n",
       "      <th>RestBP</th>\n",
       "      <th>Chol</th>\n",
       "      <th>MaxHR</th>\n",
       "    </tr>\n",
       "  </thead>\n",
       "  <tbody>\n",
       "    <tr>\n",
       "      <th>0</th>\n",
       "      <td>1.45</td>\n",
       "      <td>2.33</td>\n",
       "      <td>1.50</td>\n",
       "    </tr>\n",
       "    <tr>\n",
       "      <th>1</th>\n",
       "      <td>1.60</td>\n",
       "      <td>2.86</td>\n",
       "      <td>1.08</td>\n",
       "    </tr>\n",
       "    <tr>\n",
       "      <th>2</th>\n",
       "      <td>1.20</td>\n",
       "      <td>2.29</td>\n",
       "      <td>1.29</td>\n",
       "    </tr>\n",
       "    <tr>\n",
       "      <th>3</th>\n",
       "      <td>1.30</td>\n",
       "      <td>2.50</td>\n",
       "      <td>1.87</td>\n",
       "    </tr>\n",
       "    <tr>\n",
       "      <th>4</th>\n",
       "      <td>1.30</td>\n",
       "      <td>2.04</td>\n",
       "      <td>1.72</td>\n",
       "    </tr>\n",
       "    <tr>\n",
       "      <th>...</th>\n",
       "      <td>...</td>\n",
       "      <td>...</td>\n",
       "      <td>...</td>\n",
       "    </tr>\n",
       "    <tr>\n",
       "      <th>298</th>\n",
       "      <td>1.10</td>\n",
       "      <td>2.64</td>\n",
       "      <td>1.32</td>\n",
       "    </tr>\n",
       "    <tr>\n",
       "      <th>299</th>\n",
       "      <td>1.44</td>\n",
       "      <td>1.93</td>\n",
       "      <td>1.41</td>\n",
       "    </tr>\n",
       "    <tr>\n",
       "      <th>300</th>\n",
       "      <td>1.30</td>\n",
       "      <td>1.31</td>\n",
       "      <td>1.15</td>\n",
       "    </tr>\n",
       "    <tr>\n",
       "      <th>301</th>\n",
       "      <td>1.30</td>\n",
       "      <td>2.36</td>\n",
       "      <td>1.74</td>\n",
       "    </tr>\n",
       "    <tr>\n",
       "      <th>302</th>\n",
       "      <td>1.38</td>\n",
       "      <td>1.75</td>\n",
       "      <td>1.73</td>\n",
       "    </tr>\n",
       "  </tbody>\n",
       "</table>\n",
       "<p>303 rows × 3 columns</p>\n",
       "</div>"
      ],
      "text/plain": [
       "     RestBP  Chol  MaxHR\n",
       "0      1.45  2.33   1.50\n",
       "1      1.60  2.86   1.08\n",
       "2      1.20  2.29   1.29\n",
       "3      1.30  2.50   1.87\n",
       "4      1.30  2.04   1.72\n",
       "..      ...   ...    ...\n",
       "298    1.10  2.64   1.32\n",
       "299    1.44  1.93   1.41\n",
       "300    1.30  1.31   1.15\n",
       "301    1.30  2.36   1.74\n",
       "302    1.38  1.75   1.73\n",
       "\n",
       "[303 rows x 3 columns]"
      ]
     },
     "execution_count": 43,
     "metadata": {},
     "output_type": "execute_result"
    }
   ],
   "source": [
    "data_decimal_scaled[attributes_to_normalize]"
   ]
  },
  {
   "cell_type": "code",
   "execution_count": null,
   "id": "5e526ffe-22a3-4029-bc74-0187a4974a24",
   "metadata": {},
   "outputs": [],
   "source": []
  }
 ],
 "metadata": {
  "kernelspec": {
   "display_name": "Python 3 (ipykernel)",
   "language": "python",
   "name": "python3"
  },
  "language_info": {
   "codemirror_mode": {
    "name": "ipython",
    "version": 3
   },
   "file_extension": ".py",
   "mimetype": "text/x-python",
   "name": "python",
   "nbconvert_exporter": "python",
   "pygments_lexer": "ipython3",
   "version": "3.11.7"
  }
 },
 "nbformat": 4,
 "nbformat_minor": 5
}
